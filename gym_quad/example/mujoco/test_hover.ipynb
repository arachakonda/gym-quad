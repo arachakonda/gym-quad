{
 "cells": [
  {
   "cell_type": "code",
   "execution_count": 1,
   "metadata": {},
   "outputs": [],
   "source": [
    "import os\n",
    "import gymnasium as gym\n",
    "from gym_quad.envs.mujoco import UAVQuadHover\n",
    "\n",
    "from stable_baselines3 import PPO\n",
    "from stable_baselines3.common.vec_env import DummyVecEnv"
   ]
  },
  {
   "cell_type": "code",
   "execution_count": 2,
   "metadata": {},
   "outputs": [],
   "source": [
    "PPO_Path = os.path.join(\"/home\",'ananth', \"projects\", \"gym_quad\", \"Training\", \"Models\", \"PPO_quad\")\n",
    "#print current path\n",
    "\n",
    "env = gym.make('UAVQuadHover-v0', render_mode=\"human\")\n",
    "env = DummyVecEnv([lambda: env])\n",
    "model = PPO.load(PPO_Path, env=env)"
   ]
  },
  {
   "cell_type": "code",
   "execution_count": 4,
   "metadata": {},
   "outputs": [
    {
     "name": "stdout",
     "output_type": "stream",
     "text": [
      "Episode:0 Score:[33220.96]\n",
      "Episode:1 Score:[33589.23]\n",
      "Episode:2 Score:[31848.29]\n",
      "Episode:3 Score:[32057.244]\n",
      "Episode:4 Score:[35828.47]\n",
      "Episode:5 Score:[41398.69]\n",
      "Episode:6 Score:[32526.215]\n",
      "Episode:7 Score:[27887.414]\n",
      "Episode:8 Score:[33760.035]\n",
      "Episode:9 Score:[25874.467]\n"
     ]
    }
   ],
   "source": [
    "obs = env.reset()\n",
    "episodes = 10\n",
    "for episode in range(0, episodes):\n",
    "    obs = env.reset()\n",
    "    done = False\n",
    "    score = 0\n",
    "    while not done:\n",
    "        action, _states = model.predict(obs)\n",
    "        obs, rewards, done, info = env.step(action)\n",
    "        env.render()\n",
    "        score += rewards\n",
    "    print('Episode:{} Score:{}'.format(episode, score))\n",
    "\n",
    "env.close()"
   ]
  }
 ],
 "metadata": {
  "kernelspec": {
   "display_name": ".gym_quad",
   "language": "python",
   "name": "python3"
  },
  "language_info": {
   "codemirror_mode": {
    "name": "ipython",
    "version": 3
   },
   "file_extension": ".py",
   "mimetype": "text/x-python",
   "name": "python",
   "nbconvert_exporter": "python",
   "pygments_lexer": "ipython3",
   "version": "3.8.10"
  }
 },
 "nbformat": 4,
 "nbformat_minor": 2
}
